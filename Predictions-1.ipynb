{
 "cells": [
  {
   "cell_type": "code",
   "execution_count": 1,
   "metadata": {},
   "outputs": [],
   "source": [
    "# Importing the Libraries\n",
    "\n",
    "from tensorflow.keras.models import load_model\n",
    "import numpy as np\n",
    "import pickle\n",
    "\n",
    "import webbrowser\n",
    "\n",
    "\n",
    "\n",
    "import warnings\n",
    "warnings.filterwarnings('ignore')\n",
    "\n",
    "import ipywidgets as widgets\n",
    "from IPython.display import display, clear_output\n",
    "from ipywidgets import AppLayout, Button, Layout\n",
    "\n",
    "import tensorflow as tf\n",
    "tf.get_logger().setLevel('ERROR')\n",
    "#tf.autograph.set_verbosity(1)\n",
    "# Load the model and tokenizer\n",
    "\n",
    "\n",
    "model = load_model('nextword1.h5')\n",
    "tokenizer = pickle.load(open('tokenizer1.pkl', 'rb'))\n",
    "\n",
    "def Predict_Next_Words(model, tokenizer, text):\n",
    "   \n",
    "    for i in range(4):\n",
    "        sequence = tokenizer.texts_to_sequences([text])[0]       \n",
    "        sequence = np.array(sequence)\n",
    "        preds2 = model.predict(sequence)      \n",
    "        pred3 = np.argsort(model.predict(sequence), axis=-1)[0]     \n",
    "        preds = model.predict_classes(sequence) \n",
    "        \n",
    "        resultsno = slider.value\n",
    "           \n",
    "        predicted_word = \"\"\n",
    "                \n",
    "        for x in range(resultsno):\n",
    "            \n",
    "            predsort = pred3[len(pred3) - (x + 1)]\n",
    "            \n",
    "            for key, value in tokenizer.word_index.items():            \n",
    "                if value == predsort:                \n",
    "                    predicted_word = key \n",
    "                    print('Vorschlag ',(x + 1),': ', predicted_word)\n",
    "                    break\n",
    "               \n",
    "        return predicted_word"
   ]
  },
  {
   "cell_type": "code",
   "execution_count": 2,
   "metadata": {},
   "outputs": [],
   "source": [
    "slider = widgets.IntSlider(\n",
    "            value=3, # default value\n",
    "            min=1, \n",
    "            max=100,\n",
    "            step=1,\n",
    "            style={'description_width': 'initial', 'handle_color': '#16a085'} \n",
    "        )"
   ]
  },
  {
   "cell_type": "code",
   "execution_count": 3,
   "metadata": {},
   "outputs": [],
   "source": [
    "# name\n",
    "\n",
    "name = widgets.Text(placeholder='Satz hier eingeben', continuous_update=True)"
   ]
  },
  {
   "cell_type": "code",
   "execution_count": 4,
   "metadata": {},
   "outputs": [],
   "source": [
    "# button send\n",
    "url = \"https://deeplearningwebseitenguyen.pages.dev/ESA4/ESA4Doku.html/\"\n",
    "\n",
    "\n",
    "\n",
    "button_send = widgets.Button(\n",
    "                description='Wörter vorschlagen',\n",
    "                tooltip='Send',\n",
    "                style={'description_width': 'initial'}\n",
    "            )\n",
    "\n",
    "output = widgets.Output()\n",
    "\n",
    "def on_button_clicked(event):\n",
    "    with output:\n",
    "        clear_output()        \n",
    "        \n",
    "        text = name.value\n",
    "        try:       \n",
    "            text = text.split(\" \")\n",
    "            text = text[-1]\n",
    "\n",
    "            text = ''.join(text)\n",
    "            Predict_Next_Words(model, tokenizer, text)\n",
    "        except:\n",
    "            print(\"Wort nicht im Wortschatz vorhanden, geben Sie ein neues Wort ein oder führen sie ihren Satz fort\")\n",
    "            \n",
    "\n",
    "def on_footer_clicked(event):\n",
    "    webbrowser.open(url, new=0, autoraise=True)\n",
    "    \n",
    "    \n",
    "            \n",
    "def on_change(change):      \n",
    "    with output:\n",
    "      \n",
    "        clear_output()\n",
    "        try:\n",
    "            if change.new[-1] == ' ':     \n",
    "                try:       \n",
    "                    text = change.old.split(\" \")\n",
    "                    text = text[-1]\n",
    "                    text = ''.join(text)\n",
    "                    Predict_Next_Words(model, tokenizer, text)\n",
    "                except:\n",
    "                    print(\"Wort nicht im Wortschatz vorhanden, geben sie ein anderes Wort ein.\")\n",
    "        except:\n",
    "            print(\"Nach jeden eingegebenen Wort erscheinen automatisch Wortvorhersagen\")\n",
    "            \n",
    "name.observe(on_change, names =[\"value\"])\n",
    "           \n",
    "     \n",
    "\n",
    "button_send.on_click(on_button_clicked)\n",
    "\n",
    "vbox_result = widgets.VBox([ button_send, output])"
   ]
  },
  {
   "cell_type": "code",
   "execution_count": 9,
   "metadata": {},
   "outputs": [],
   "source": [
    "# stacked right hand side\n",
    "\n",
    "text_h = widgets.HTML(value=\"<h3></h3>\")\n",
    "text_0 = widgets.HTML(value=\"<h3>Language Model mit Recurrent neural network (RNN)</h3>\")\n",
    "text_1 = widgets.HTML(value=\"<p>Anzahl der Wortvorschläge:</p>\")\n",
    "text_2 = widgets.HTML(value=\"<a href=https://deeplearningwebseitenguyen.pages.dev/ESA4/ESA4Doku>Zur Dokumentation</a>\")\n",
    "text_3 = widgets.HTML(value=\"<p>______________________________________________________</p>\")\n",
    "\n",
    "tooltip = widgets.Button(\n",
    "    \n",
    "    disabled=False,\n",
    "    button_style='info', # 'success', 'info', 'warning', 'danger' or ''\n",
    "    tooltip='Stellen sie mit Hilfe des Sliders ihre gewünschte Anzahl der Wortvorhersagen ein und geben sie ihren gewünschten Text ein.',\n",
    "    icon='fa-question-circle',\n",
    "    layout=Layout(width='3.25%', height='auto',  justify_content='center')\n",
    "    \n",
    "    \n",
    ")\n",
    "tooltip2 = widgets.Button(\n",
    "    \n",
    "    disabled=False,\n",
    "    button_style='info', # 'success', 'info', 'warning', 'danger' or ''\n",
    "    tooltip='Geben Sie in dieses Feld ihren gewünschten Satz ein und drücken Sie \"Wörter vorschlagen\", alternativ wird ihnen nach einem Leerzeichen eine automatische Wortvorhersage vorgeschlagen',\n",
    "    icon='fa-question-circle',\n",
    "    layout=Layout(width='3.25%', height='auto',  justify_content='center')\n",
    "    \n",
    "    \n",
    ")\n",
    "footer_button = Button(description= 'Zur Dokumentation', button_style='', layout=Layout(height='50px', width='auto'))\n",
    "toolt2 = widgets.HBox([name, tooltip2])\n",
    "\n",
    "toolt = widgets.HBox([text_1, tooltip])\n",
    "vbox_text = widgets.VBox([ text_h, toolt, slider, text_h, toolt2,text_h, vbox_result, text_h, text_3, text_2])"
   ]
  },
  {
   "cell_type": "code",
   "execution_count": 6,
   "metadata": {
    "scrolled": true
   },
   "outputs": [],
   "source": [
    "text = name\n",
    "page = widgets.HBox([vbox_text])"
   ]
  },
  {
   "cell_type": "code",
   "execution_count": 7,
   "metadata": {},
   "outputs": [],
   "source": [
    "\n",
    "def create_expanded_button(description, button_style):\n",
    "    return Button(description=description, button_style=button_style, layout=Layout(height='auto', width='auto'))\n",
    "\n",
    "header_button = Button(description= 'Language Modell mit RNN', button_style='success', layout=Layout(height='50px', width='auto'))\n",
    "left_button = Button( button_style='success', layout=Layout(height='auto', width='5px'))\n",
    "center_button = create_expanded_button('Center', 'warning')\n",
    "right_button = Button( button_style='success', layout=Layout(height='auto', width='5px'))\n",
    "\n",
    "\n",
    "footer_button.on_click(on_footer_clicked)"
   ]
  },
  {
   "cell_type": "code",
   "execution_count": 10,
   "metadata": {
    "scrolled": true
   },
   "outputs": [
    {
     "data": {
      "application/vnd.jupyter.widget-view+json": {
       "model_id": "6bbc12ad11064040a448916e150c49c7",
       "version_major": 2,
       "version_minor": 0
      },
      "text/plain": [
       "VBox(children=(Button(button_style='success', description='Language Modell mit RNN', layout=Layout(height='50p…"
      ]
     },
     "metadata": {},
     "output_type": "display_data"
    }
   ],
   "source": [
    "page2 = widgets.VBox([header_button, vbox_text])\n",
    "display(page2)"
   ]
  },
  {
   "cell_type": "code",
   "execution_count": null,
   "metadata": {},
   "outputs": [],
   "source": []
  },
  {
   "cell_type": "code",
   "execution_count": null,
   "metadata": {},
   "outputs": [],
   "source": []
  }
 ],
 "metadata": {
  "kernelspec": {
   "display_name": "Python 3 (ipykernel)",
   "language": "python",
   "name": "python3"
  },
  "language_info": {
   "codemirror_mode": {
    "name": "ipython",
    "version": 3
   },
   "file_extension": ".py",
   "mimetype": "text/x-python",
   "name": "python",
   "nbconvert_exporter": "python",
   "pygments_lexer": "ipython3",
   "version": "3.8.13"
  }
 },
 "nbformat": 4,
 "nbformat_minor": 2
}
